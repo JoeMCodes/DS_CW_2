{
 "cells": [
  {
   "cell_type": "code",
   "execution_count": 1,
   "metadata": {},
   "outputs": [],
   "source": [
    "import pandas as pd\n",
    "import numpy as np"
   ]
  },
  {
   "cell_type": "code",
   "execution_count": 2,
   "metadata": {},
   "outputs": [],
   "source": [
    "df = pd.read_csv('data/raw/tier_1_data.csv', index_col=False)"
   ]
  },
  {
   "cell_type": "code",
   "execution_count": 3,
   "metadata": {},
   "outputs": [],
   "source": [
    "df = df.drop(columns=[\"url\", \"Unnamed: 0\", \"event\", \"match-id\", \"date\", \"team1-id\", \"team2-id\"])"
   ]
  },
  {
   "cell_type": "code",
   "execution_count": 3,
   "metadata": {},
   "outputs": [
    {
     "data": {
      "text/plain": [
       "array(['Imperial', 'paiN', 'MIBR', '9z', 'Monte', 'Metizport', 'FURIA',\n",
       "       'MOUZ', 'Astralis', 'Liquid', 'Virtus.pro', 'G2', 'FaZe',\n",
       "       'FlyQuest', 'Cloud9', 'HEROIC', 'Steel Helmet', 'Lynn Vision',\n",
       "       'Wildcard', 'TYLOO', 'Spirit', 'ENCE', 'Falcons', 'Natus Vincere',\n",
       "       'Complexity', 'GamerLegion', 'Eternal Fire', 'Vitality', 'BIG',\n",
       "       'OG', 'Ninjas in Pyjamas', 'Apeks', 'TheMongolz', 'BESTIA', 'M80',\n",
       "       'Nigma Galaxy', 'Fluxo Demons', '9 Pandas Fearless',\n",
       "       'NAVI Javelins', 'HSG fe', 'FURIA fe', 'FlyQuest RED', 'BetBoom',\n",
       "       'HAVU', 'Nouns', '3DMAX', '9 Pandas', 'PARIVISION',\n",
       "       'Movistar Riders', 'Wings Up'], dtype=object)"
      ]
     },
     "execution_count": 3,
     "metadata": {},
     "output_type": "execute_result"
    }
   ],
   "source": [
    "df['team1'].unique()"
   ]
  },
  {
   "cell_type": "code",
   "execution_count": 4,
   "metadata": {},
   "outputs": [],
   "source": [
    "def convert_match_stage(ms_str):\n",
    "    if 'group' in ms_str.lower():\n",
    "        return 'G'\n",
    "    elif 'quarter' in ms_str.lower():\n",
    "        return 'QF'\n",
    "    elif 'semi' in ms_str.lower():\n",
    "        return 'SF'\n",
    "    elif 'grand' in ms_str.lower():\n",
    "        return 'GF'\n",
    "    else:\n",
    "        return 'NA'\n",
    "\n",
    "def convert_match_type(mt_str):\n",
    "    if '1' in mt_str.lower():\n",
    "        return 'BO1'\n",
    "    elif '3' in mt_str.lower():\n",
    "        return 'BO3'\n",
    "    elif '5' in mt_str.lower():\n",
    "        return 'BO5'\n",
    "    else:\n",
    "        return 'NA'"
   ]
  },
  {
   "cell_type": "code",
   "execution_count": 5,
   "metadata": {},
   "outputs": [],
   "source": [
    "df['match_stage'] = df['match_stage'].apply(convert_match_stage)\n",
    "df['match_type'] = df['match_type'].apply(convert_match_type)\n",
    "for i in range(10):\n",
    "    df[f'player{i}_kast'] = df[f'player{i}_kast'].apply(lambda l: np.float32(l.strip('%'))/100)"
   ]
  },
  {
   "cell_type": "code",
   "execution_count": 6,
   "metadata": {},
   "outputs": [],
   "source": [
    "df['team_1_won'] = np.int32(df['team1score']>df['team2score']) ## maybe consider doing ratio showing how much they won by "
   ]
  },
  {
   "cell_type": "code",
   "execution_count": 54,
   "metadata": {},
   "outputs": [],
   "source": [
    "from sklearn.preprocessing import OneHotEncoder\n",
    "\n",
    "# categorical_features = ['team1', 'team2', 'match_type', 'match_stage', 'player0_id', 'player1_id', 'player2_id', 'player3_id', 'player4_id', 'player5_id', 'player6_id', 'player7_id', 'player8_id', 'player9_id']\n",
    "categorical_features = ['team1']\n",
    "\n",
    "encoder = OneHotEncoder(sparse_output=False)\n",
    "encoded_features = encoder.fit_transform(df[categorical_features])\n",
    "\n",
    "numerical_features = ['team1_Ranking', 'team2_Ranking']\n",
    "# for i in range(10):\n",
    "#     numerical_features.append(f'player{i}_rating')\n",
    "#     numerical_features.append(f'player{i}_kast')\n",
    "#     numerical_features.append(f'player{i}_adr')\n",
    "\n",
    "X = pd.concat([pd.DataFrame(encoded_features), df[numerical_features]], axis=1)\n",
    "X.columns = X.columns.astype(str)\n",
    "\n",
    "y = df['team_1_won']\n"
   ]
  },
  {
   "cell_type": "code",
   "execution_count": 56,
   "metadata": {},
   "outputs": [
    {
     "data": {
      "text/plain": [
       "array(['FaZe', 'ENCE', 'MOUZ', 'Ninjas in Pyjamas', 'Wings Up',\n",
       "       'Lynn Vision', 'Astralis', 'TYLOO'], dtype=object)"
      ]
     },
     "execution_count": 56,
     "metadata": {},
     "output_type": "execute_result"
    }
   ],
   "source": [
    "df['team1'].unique()\n",
    "df['team2'].unique()"
   ]
  },
  {
   "cell_type": "code",
   "execution_count": 34,
   "metadata": {},
   "outputs": [],
   "source": [
    "# X_test = X[156:]\n",
    "# y_test = y[156:]\n",
    "# X_train = X[:156]\n",
    "# y_train = y[:156]"
   ]
  },
  {
   "cell_type": "code",
   "execution_count": 50,
   "metadata": {},
   "outputs": [],
   "source": [
    "from sklearn.model_selection import train_test_split\n",
    "\n",
    "\n",
    "X_train, X_test, y_train, y_test = train_test_split(X, y, test_size=0.8, random_state=42)\n"
   ]
  },
  {
   "cell_type": "code",
   "execution_count": 51,
   "metadata": {},
   "outputs": [
    {
     "data": {
      "text/html": [
       "<div>\n",
       "<style scoped>\n",
       "    .dataframe tbody tr th:only-of-type {\n",
       "        vertical-align: middle;\n",
       "    }\n",
       "\n",
       "    .dataframe tbody tr th {\n",
       "        vertical-align: top;\n",
       "    }\n",
       "\n",
       "    .dataframe thead th {\n",
       "        text-align: right;\n",
       "    }\n",
       "</style>\n",
       "<table border=\"1\" class=\"dataframe\">\n",
       "  <thead>\n",
       "    <tr style=\"text-align: right;\">\n",
       "      <th></th>\n",
       "      <th>team1_Ranking</th>\n",
       "      <th>team2_Ranking</th>\n",
       "    </tr>\n",
       "  </thead>\n",
       "  <tbody>\n",
       "    <tr>\n",
       "      <th>154</th>\n",
       "      <td>12</td>\n",
       "      <td>29</td>\n",
       "    </tr>\n",
       "    <tr>\n",
       "      <th>63</th>\n",
       "      <td>12</td>\n",
       "      <td>29</td>\n",
       "    </tr>\n",
       "    <tr>\n",
       "      <th>54</th>\n",
       "      <td>12</td>\n",
       "      <td>2</td>\n",
       "    </tr>\n",
       "    <tr>\n",
       "      <th>107</th>\n",
       "      <td>4</td>\n",
       "      <td>27</td>\n",
       "    </tr>\n",
       "    <tr>\n",
       "      <th>50</th>\n",
       "      <td>12</td>\n",
       "      <td>29</td>\n",
       "    </tr>\n",
       "    <tr>\n",
       "      <th>166</th>\n",
       "      <td>4</td>\n",
       "      <td>12</td>\n",
       "    </tr>\n",
       "    <tr>\n",
       "      <th>58</th>\n",
       "      <td>2</td>\n",
       "      <td>1</td>\n",
       "    </tr>\n",
       "    <tr>\n",
       "      <th>48</th>\n",
       "      <td>22</td>\n",
       "      <td>29</td>\n",
       "    </tr>\n",
       "    <tr>\n",
       "      <th>88</th>\n",
       "      <td>4</td>\n",
       "      <td>12</td>\n",
       "    </tr>\n",
       "    <tr>\n",
       "      <th>21</th>\n",
       "      <td>2</td>\n",
       "      <td>118</td>\n",
       "    </tr>\n",
       "    <tr>\n",
       "      <th>57</th>\n",
       "      <td>118</td>\n",
       "      <td>27</td>\n",
       "    </tr>\n",
       "    <tr>\n",
       "      <th>163</th>\n",
       "      <td>1</td>\n",
       "      <td>27</td>\n",
       "    </tr>\n",
       "    <tr>\n",
       "      <th>129</th>\n",
       "      <td>4</td>\n",
       "      <td>22</td>\n",
       "    </tr>\n",
       "    <tr>\n",
       "      <th>37</th>\n",
       "      <td>12</td>\n",
       "      <td>29</td>\n",
       "    </tr>\n",
       "    <tr>\n",
       "      <th>159</th>\n",
       "      <td>4</td>\n",
       "      <td>27</td>\n",
       "    </tr>\n",
       "    <tr>\n",
       "      <th>1</th>\n",
       "      <td>1</td>\n",
       "      <td>4</td>\n",
       "    </tr>\n",
       "    <tr>\n",
       "      <th>52</th>\n",
       "      <td>2</td>\n",
       "      <td>1</td>\n",
       "    </tr>\n",
       "    <tr>\n",
       "      <th>149</th>\n",
       "      <td>2</td>\n",
       "      <td>1</td>\n",
       "    </tr>\n",
       "    <tr>\n",
       "      <th>130</th>\n",
       "      <td>2</td>\n",
       "      <td>1</td>\n",
       "    </tr>\n",
       "    <tr>\n",
       "      <th>151</th>\n",
       "      <td>2</td>\n",
       "      <td>118</td>\n",
       "    </tr>\n",
       "    <tr>\n",
       "      <th>103</th>\n",
       "      <td>4</td>\n",
       "      <td>22</td>\n",
       "    </tr>\n",
       "    <tr>\n",
       "      <th>99</th>\n",
       "      <td>2</td>\n",
       "      <td>118</td>\n",
       "    </tr>\n",
       "    <tr>\n",
       "      <th>116</th>\n",
       "      <td>4</td>\n",
       "      <td>22</td>\n",
       "    </tr>\n",
       "    <tr>\n",
       "      <th>87</th>\n",
       "      <td>22</td>\n",
       "      <td>29</td>\n",
       "    </tr>\n",
       "    <tr>\n",
       "      <th>74</th>\n",
       "      <td>22</td>\n",
       "      <td>29</td>\n",
       "    </tr>\n",
       "    <tr>\n",
       "      <th>121</th>\n",
       "      <td>29</td>\n",
       "      <td>2</td>\n",
       "    </tr>\n",
       "    <tr>\n",
       "      <th>168</th>\n",
       "      <td>4</td>\n",
       "      <td>22</td>\n",
       "    </tr>\n",
       "    <tr>\n",
       "      <th>20</th>\n",
       "      <td>1</td>\n",
       "      <td>27</td>\n",
       "    </tr>\n",
       "    <tr>\n",
       "      <th>71</th>\n",
       "      <td>2</td>\n",
       "      <td>1</td>\n",
       "    </tr>\n",
       "    <tr>\n",
       "      <th>106</th>\n",
       "      <td>12</td>\n",
       "      <td>2</td>\n",
       "    </tr>\n",
       "    <tr>\n",
       "      <th>14</th>\n",
       "      <td>1</td>\n",
       "      <td>4</td>\n",
       "    </tr>\n",
       "    <tr>\n",
       "      <th>92</th>\n",
       "      <td>1</td>\n",
       "      <td>4</td>\n",
       "    </tr>\n",
       "    <tr>\n",
       "      <th>102</th>\n",
       "      <td>12</td>\n",
       "      <td>29</td>\n",
       "    </tr>\n",
       "  </tbody>\n",
       "</table>\n",
       "</div>"
      ],
      "text/plain": [
       "     team1_Ranking  team2_Ranking\n",
       "154             12             29\n",
       "63              12             29\n",
       "54              12              2\n",
       "107              4             27\n",
       "50              12             29\n",
       "166              4             12\n",
       "58               2              1\n",
       "48              22             29\n",
       "88               4             12\n",
       "21               2            118\n",
       "57             118             27\n",
       "163              1             27\n",
       "129              4             22\n",
       "37              12             29\n",
       "159              4             27\n",
       "1                1              4\n",
       "52               2              1\n",
       "149              2              1\n",
       "130              2              1\n",
       "151              2            118\n",
       "103              4             22\n",
       "99               2            118\n",
       "116              4             22\n",
       "87              22             29\n",
       "74              22             29\n",
       "121             29              2\n",
       "168              4             22\n",
       "20               1             27\n",
       "71               2              1\n",
       "106             12              2\n",
       "14               1              4\n",
       "92               1              4\n",
       "102             12             29"
      ]
     },
     "execution_count": 51,
     "metadata": {},
     "output_type": "execute_result"
    }
   ],
   "source": [
    "X_train"
   ]
  },
  {
   "cell_type": "code",
   "execution_count": 52,
   "metadata": {},
   "outputs": [],
   "source": [
    "from sklearn.linear_model import LogisticRegression\n",
    "\n",
    "# Initialize and train logistic regression model\n",
    "log_reg_model = LogisticRegression(C = 1)\n",
    "log_reg_model.fit(X_train, y_train)\n",
    "\n",
    "# Predictions\n",
    "y_pred = log_reg_model.predict(X_test)"
   ]
  },
  {
   "cell_type": "code",
   "execution_count": 53,
   "metadata": {},
   "outputs": [
    {
     "name": "stdout",
     "output_type": "stream",
     "text": [
      "acc:  0.8455882352941176 f1 score:  0.8235294117647058\n"
     ]
    }
   ],
   "source": [
    "from sklearn.metrics import f1_score\n",
    "\n",
    "acc = np.mean(y_pred == y_test)\n",
    "f1s = f1_score(y_test, y_pred)\n",
    "\n",
    "print('acc: ', acc, 'f1 score: ', f1s)\n"
   ]
  },
  {
   "cell_type": "code",
   "execution_count": 39,
   "metadata": {},
   "outputs": [
    {
     "data": {
      "text/plain": [
       "0.5384615384615384"
      ]
     },
     "execution_count": 39,
     "metadata": {},
     "output_type": "execute_result"
    }
   ],
   "source": [
    "np.mean(np.int32(-0.4*X['team1_Ranking']>0.8*X['team2_Ranking']) == y)"
   ]
  }
 ],
 "metadata": {
  "kernelspec": {
   "display_name": ".venv",
   "language": "python",
   "name": "python3"
  },
  "language_info": {
   "codemirror_mode": {
    "name": "ipython",
    "version": 3
   },
   "file_extension": ".py",
   "mimetype": "text/x-python",
   "name": "python",
   "nbconvert_exporter": "python",
   "pygments_lexer": "ipython3",
   "version": "3.11.0"
  }
 },
 "nbformat": 4,
 "nbformat_minor": 2
}

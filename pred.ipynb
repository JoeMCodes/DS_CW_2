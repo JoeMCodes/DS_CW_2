{
 "cells": [
  {
   "cell_type": "code",
   "execution_count": 1,
   "metadata": {},
   "outputs": [],
   "source": [
    "import src.predict_match_outcome as pred\n",
    "from ipywidgets import interact"
   ]
  },
  {
   "cell_type": "code",
   "execution_count": 2,
   "metadata": {},
   "outputs": [
    {
     "name": "stdout",
     "output_type": "stream",
     "text": [
      "Parsed page successfully after 11 trys\n",
      "Parsed page successfully after 3 trys\n",
      "Parsed page successfully after 17 trys\n",
      "Parsed page successfully after 5 trys\n",
      "Predicted Prob of Team 1 winning is [0.15589078 0.84410922]\n"
     ]
    }
   ],
   "source": [
    "interact(pred.predict_match_outcome, match_id = 2371507)"
   ]
  }
 ],
 "metadata": {
  "kernelspec": {
   "display_name": ".venv",
   "language": "python",
   "name": "python3"
  },
  "language_info": {
   "codemirror_mode": {
    "name": "ipython",
    "version": 3
   },
   "file_extension": ".py",
   "mimetype": "text/x-python",
   "name": "python",
   "nbconvert_exporter": "python",
   "pygments_lexer": "ipython3",
   "version": "3.10.0"
  }
 },
 "nbformat": 4,
 "nbformat_minor": 2
}

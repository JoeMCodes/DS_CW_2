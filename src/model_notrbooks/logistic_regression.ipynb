{
 "cells": [
  {
   "cell_type": "code",
   "execution_count": 1,
   "metadata": {},
   "outputs": [],
   "source": [
    "import os\n",
    "os.chdir('../../')\n",
    "import pandas as pd\n",
    "import numpy as np\n",
    "import matplotlib.pyplot as plt\n"
   ]
  },
  {
   "cell_type": "code",
   "execution_count": 2,
   "metadata": {},
   "outputs": [],
   "source": [
    "df_train = pd.read_csv('data/clean/clean_data_train.csv', index_col=False)\n",
    "df_test = pd.read_csv('data/clean/clean_data_test.csv', index_col=False)"
   ]
  },
  {
   "cell_type": "code",
   "execution_count": 3,
   "metadata": {},
   "outputs": [
    {
     "data": {
      "text/html": [
       "<div>\n",
       "<style scoped>\n",
       "    .dataframe tbody tr th:only-of-type {\n",
       "        vertical-align: middle;\n",
       "    }\n",
       "\n",
       "    .dataframe tbody tr th {\n",
       "        vertical-align: top;\n",
       "    }\n",
       "\n",
       "    .dataframe thead th {\n",
       "        text-align: right;\n",
       "    }\n",
       "</style>\n",
       "<table border=\"1\" class=\"dataframe\">\n",
       "  <thead>\n",
       "    <tr style=\"text-align: right;\">\n",
       "      <th></th>\n",
       "      <th>team1</th>\n",
       "      <th>team1score</th>\n",
       "      <th>team2</th>\n",
       "      <th>team2score</th>\n",
       "      <th>match_type</th>\n",
       "      <th>match_stage</th>\n",
       "      <th>player0_id</th>\n",
       "      <th>player0_rating</th>\n",
       "      <th>player0_kd</th>\n",
       "      <th>player1_id</th>\n",
       "      <th>...</th>\n",
       "      <th>player7_kd</th>\n",
       "      <th>player8_id</th>\n",
       "      <th>player8_rating</th>\n",
       "      <th>player8_kd</th>\n",
       "      <th>player9_id</th>\n",
       "      <th>player9_rating</th>\n",
       "      <th>player9_kd</th>\n",
       "      <th>team1_Ranking</th>\n",
       "      <th>team2_Ranking</th>\n",
       "      <th>team_1_won</th>\n",
       "    </tr>\n",
       "  </thead>\n",
       "  <tbody>\n",
       "    <tr>\n",
       "      <th>0</th>\n",
       "      <td>FaZe</td>\n",
       "      <td>0</td>\n",
       "      <td>Spirit</td>\n",
       "      <td>3</td>\n",
       "      <td>BO5</td>\n",
       "      <td>GF</td>\n",
       "      <td>9960.0</td>\n",
       "      <td>1.16</td>\n",
       "      <td>1.14</td>\n",
       "      <td>11816.0</td>\n",
       "      <td>...</td>\n",
       "      <td>1.06</td>\n",
       "      <td>18317</td>\n",
       "      <td>1.07</td>\n",
       "      <td>1.04</td>\n",
       "      <td>7716.0</td>\n",
       "      <td>0.99</td>\n",
       "      <td>0.93</td>\n",
       "      <td>2.0</td>\n",
       "      <td>14.0</td>\n",
       "      <td>0</td>\n",
       "    </tr>\n",
       "    <tr>\n",
       "      <th>1</th>\n",
       "      <td>Spirit</td>\n",
       "      <td>2</td>\n",
       "      <td>Falcons</td>\n",
       "      <td>0</td>\n",
       "      <td>BO3</td>\n",
       "      <td>SF</td>\n",
       "      <td>21167.0</td>\n",
       "      <td>1.46</td>\n",
       "      <td>1.47</td>\n",
       "      <td>16920.0</td>\n",
       "      <td>...</td>\n",
       "      <td>1.05</td>\n",
       "      <td>11777</td>\n",
       "      <td>1.05</td>\n",
       "      <td>1.02</td>\n",
       "      <td>922.0</td>\n",
       "      <td>0.83</td>\n",
       "      <td>0.73</td>\n",
       "      <td>14.0</td>\n",
       "      <td>11.0</td>\n",
       "      <td>1</td>\n",
       "    </tr>\n",
       "    <tr>\n",
       "      <th>2</th>\n",
       "      <td>MOUZ</td>\n",
       "      <td>0</td>\n",
       "      <td>FaZe</td>\n",
       "      <td>2</td>\n",
       "      <td>BO3</td>\n",
       "      <td>SF</td>\n",
       "      <td>18850.0</td>\n",
       "      <td>1.13</td>\n",
       "      <td>1.23</td>\n",
       "      <td>13666.0</td>\n",
       "      <td>...</td>\n",
       "      <td>1.13</td>\n",
       "      <td>8183</td>\n",
       "      <td>1.11</td>\n",
       "      <td>1.02</td>\n",
       "      <td>429.0</td>\n",
       "      <td>0.94</td>\n",
       "      <td>0.83</td>\n",
       "      <td>5.0</td>\n",
       "      <td>2.0</td>\n",
       "      <td>0</td>\n",
       "    </tr>\n",
       "    <tr>\n",
       "      <th>3</th>\n",
       "      <td>ENCE</td>\n",
       "      <td>1</td>\n",
       "      <td>Falcons</td>\n",
       "      <td>2</td>\n",
       "      <td>BO3</td>\n",
       "      <td>QF</td>\n",
       "      <td>16848.0</td>\n",
       "      <td>1.20</td>\n",
       "      <td>1.36</td>\n",
       "      <td>19114.0</td>\n",
       "      <td>...</td>\n",
       "      <td>1.14</td>\n",
       "      <td>11777</td>\n",
       "      <td>1.07</td>\n",
       "      <td>1.05</td>\n",
       "      <td>922.0</td>\n",
       "      <td>0.86</td>\n",
       "      <td>0.76</td>\n",
       "      <td>48.0</td>\n",
       "      <td>11.0</td>\n",
       "      <td>0</td>\n",
       "    </tr>\n",
       "    <tr>\n",
       "      <th>4</th>\n",
       "      <td>FaZe</td>\n",
       "      <td>2</td>\n",
       "      <td>G2</td>\n",
       "      <td>0</td>\n",
       "      <td>BO3</td>\n",
       "      <td>QF</td>\n",
       "      <td>9960.0</td>\n",
       "      <td>1.16</td>\n",
       "      <td>1.17</td>\n",
       "      <td>11816.0</td>\n",
       "      <td>...</td>\n",
       "      <td>0.92</td>\n",
       "      <td>9618</td>\n",
       "      <td>0.96</td>\n",
       "      <td>0.89</td>\n",
       "      <td>10096.0</td>\n",
       "      <td>0.89</td>\n",
       "      <td>0.76</td>\n",
       "      <td>2.0</td>\n",
       "      <td>6.0</td>\n",
       "      <td>1</td>\n",
       "    </tr>\n",
       "  </tbody>\n",
       "</table>\n",
       "<p>5 rows × 39 columns</p>\n",
       "</div>"
      ],
      "text/plain": [
       "    team1  team1score    team2  team2score match_type match_stage  player0_id  \\\n",
       "0    FaZe           0   Spirit           3        BO5          GF      9960.0   \n",
       "1  Spirit           2  Falcons           0        BO3          SF     21167.0   \n",
       "2    MOUZ           0     FaZe           2        BO3          SF     18850.0   \n",
       "3    ENCE           1  Falcons           2        BO3          QF     16848.0   \n",
       "4    FaZe           2       G2           0        BO3          QF      9960.0   \n",
       "\n",
       "   player0_rating  player0_kd  player1_id  ...  player7_kd  player8_id  \\\n",
       "0            1.16        1.14     11816.0  ...        1.06       18317   \n",
       "1            1.46        1.47     16920.0  ...        1.05       11777   \n",
       "2            1.13        1.23     13666.0  ...        1.13        8183   \n",
       "3            1.20        1.36     19114.0  ...        1.14       11777   \n",
       "4            1.16        1.17     11816.0  ...        0.92        9618   \n",
       "\n",
       "   player8_rating  player8_kd  player9_id  player9_rating  player9_kd  \\\n",
       "0            1.07        1.04      7716.0            0.99        0.93   \n",
       "1            1.05        1.02       922.0            0.83        0.73   \n",
       "2            1.11        1.02       429.0            0.94        0.83   \n",
       "3            1.07        1.05       922.0            0.86        0.76   \n",
       "4            0.96        0.89     10096.0            0.89        0.76   \n",
       "\n",
       "   team1_Ranking  team2_Ranking  team_1_won  \n",
       "0            2.0           14.0           0  \n",
       "1           14.0           11.0           1  \n",
       "2            5.0            2.0           0  \n",
       "3           48.0           11.0           0  \n",
       "4            2.0            6.0           1  \n",
       "\n",
       "[5 rows x 39 columns]"
      ]
     },
     "execution_count": 3,
     "metadata": {},
     "output_type": "execute_result"
    }
   ],
   "source": [
    "df_train.head()"
   ]
  },
  {
   "cell_type": "code",
   "execution_count": 4,
   "metadata": {},
   "outputs": [],
   "source": [
    "numerical_features = ['team1_Ranking', 'team2_Ranking']\n",
    "for i in range(10):\n",
    "    numerical_features.append(f'player{i}_rating')\n",
    "    numerical_features.append(f'player{i}_kd')\n",
    "\n",
    "\n",
    "X_train = df_train[numerical_features]\n",
    "y_train = df_train['team_1_won']\n",
    "\n",
    "\n",
    "X_test = df_test[numerical_features]\n",
    "y_test = df_test['team_1_won']"
   ]
  },
  {
   "cell_type": "code",
   "execution_count": 5,
   "metadata": {},
   "outputs": [
    {
     "data": {
      "text/html": [
       "<style>#sk-container-id-1 {color: black;}#sk-container-id-1 pre{padding: 0;}#sk-container-id-1 div.sk-toggleable {background-color: white;}#sk-container-id-1 label.sk-toggleable__label {cursor: pointer;display: block;width: 100%;margin-bottom: 0;padding: 0.3em;box-sizing: border-box;text-align: center;}#sk-container-id-1 label.sk-toggleable__label-arrow:before {content: \"▸\";float: left;margin-right: 0.25em;color: #696969;}#sk-container-id-1 label.sk-toggleable__label-arrow:hover:before {color: black;}#sk-container-id-1 div.sk-estimator:hover label.sk-toggleable__label-arrow:before {color: black;}#sk-container-id-1 div.sk-toggleable__content {max-height: 0;max-width: 0;overflow: hidden;text-align: left;background-color: #f0f8ff;}#sk-container-id-1 div.sk-toggleable__content pre {margin: 0.2em;color: black;border-radius: 0.25em;background-color: #f0f8ff;}#sk-container-id-1 input.sk-toggleable__control:checked~div.sk-toggleable__content {max-height: 200px;max-width: 100%;overflow: auto;}#sk-container-id-1 input.sk-toggleable__control:checked~label.sk-toggleable__label-arrow:before {content: \"▾\";}#sk-container-id-1 div.sk-estimator input.sk-toggleable__control:checked~label.sk-toggleable__label {background-color: #d4ebff;}#sk-container-id-1 div.sk-label input.sk-toggleable__control:checked~label.sk-toggleable__label {background-color: #d4ebff;}#sk-container-id-1 input.sk-hidden--visually {border: 0;clip: rect(1px 1px 1px 1px);clip: rect(1px, 1px, 1px, 1px);height: 1px;margin: -1px;overflow: hidden;padding: 0;position: absolute;width: 1px;}#sk-container-id-1 div.sk-estimator {font-family: monospace;background-color: #f0f8ff;border: 1px dotted black;border-radius: 0.25em;box-sizing: border-box;margin-bottom: 0.5em;}#sk-container-id-1 div.sk-estimator:hover {background-color: #d4ebff;}#sk-container-id-1 div.sk-parallel-item::after {content: \"\";width: 100%;border-bottom: 1px solid gray;flex-grow: 1;}#sk-container-id-1 div.sk-label:hover label.sk-toggleable__label {background-color: #d4ebff;}#sk-container-id-1 div.sk-serial::before {content: \"\";position: absolute;border-left: 1px solid gray;box-sizing: border-box;top: 0;bottom: 0;left: 50%;z-index: 0;}#sk-container-id-1 div.sk-serial {display: flex;flex-direction: column;align-items: center;background-color: white;padding-right: 0.2em;padding-left: 0.2em;position: relative;}#sk-container-id-1 div.sk-item {position: relative;z-index: 1;}#sk-container-id-1 div.sk-parallel {display: flex;align-items: stretch;justify-content: center;background-color: white;position: relative;}#sk-container-id-1 div.sk-item::before, #sk-container-id-1 div.sk-parallel-item::before {content: \"\";position: absolute;border-left: 1px solid gray;box-sizing: border-box;top: 0;bottom: 0;left: 50%;z-index: -1;}#sk-container-id-1 div.sk-parallel-item {display: flex;flex-direction: column;z-index: 1;position: relative;background-color: white;}#sk-container-id-1 div.sk-parallel-item:first-child::after {align-self: flex-end;width: 50%;}#sk-container-id-1 div.sk-parallel-item:last-child::after {align-self: flex-start;width: 50%;}#sk-container-id-1 div.sk-parallel-item:only-child::after {width: 0;}#sk-container-id-1 div.sk-dashed-wrapped {border: 1px dashed gray;margin: 0 0.4em 0.5em 0.4em;box-sizing: border-box;padding-bottom: 0.4em;background-color: white;}#sk-container-id-1 div.sk-label label {font-family: monospace;font-weight: bold;display: inline-block;line-height: 1.2em;}#sk-container-id-1 div.sk-label-container {text-align: center;}#sk-container-id-1 div.sk-container {/* jupyter's `normalize.less` sets `[hidden] { display: none; }` but bootstrap.min.css set `[hidden] { display: none !important; }` so we also need the `!important` here to be able to override the default hidden behavior on the sphinx rendered scikit-learn.org. See: https://github.com/scikit-learn/scikit-learn/issues/21755 */display: inline-block !important;position: relative;}#sk-container-id-1 div.sk-text-repr-fallback {display: none;}</style><div id=\"sk-container-id-1\" class=\"sk-top-container\"><div class=\"sk-text-repr-fallback\"><pre>GridSearchCV(cv=5,\n",
       "             estimator=LogisticRegression(max_iter=1000, solver=&#x27;liblinear&#x27;),\n",
       "             param_grid={&#x27;C&#x27;: array([3.90625000e-03, 4.27458477e-03, 4.67765119e-03, 5.11872423e-03,\n",
       "       5.60138769e-03, 6.12956326e-03, 6.70754247e-03, 7.34002148e-03,\n",
       "       8.03213927e-03, 8.78951941e-03, 9.61831573e-03, 1.05252623e-02,\n",
       "       1.15177283e-02, 1.26037775e-02, 1.37922343e-02, 1.50927551e-02,\n",
       "       1.6515...\n",
       "       3.68075060e+00, 4.02782220e+00, 4.40762046e+00, 4.82323131e+00,\n",
       "       5.27803164e+00, 5.77571678e+00, 6.32033049e+00, 6.91629785e+00,\n",
       "       7.56846117e+00, 8.28211939e+00, 9.06307108e+00, 9.91766160e+00,\n",
       "       1.08528346e+01, 1.18761886e+01, 1.29960383e+01, 1.42214829e+01,\n",
       "       1.55624792e+01, 1.70299229e+01, 1.86357374e+01, 2.03929700e+01,\n",
       "       2.23158987e+01, 2.44201473e+01, 2.67228134e+01, 2.92426064e+01,\n",
       "       3.20000000e+01]),\n",
       "                         &#x27;penalty&#x27;: [&#x27;l1&#x27;, &#x27;l2&#x27;]})</pre><b>In a Jupyter environment, please rerun this cell to show the HTML representation or trust the notebook. <br />On GitHub, the HTML representation is unable to render, please try loading this page with nbviewer.org.</b></div><div class=\"sk-container\" hidden><div class=\"sk-item sk-dashed-wrapped\"><div class=\"sk-label-container\"><div class=\"sk-label sk-toggleable\"><input class=\"sk-toggleable__control sk-hidden--visually\" id=\"sk-estimator-id-1\" type=\"checkbox\" ><label for=\"sk-estimator-id-1\" class=\"sk-toggleable__label sk-toggleable__label-arrow\">GridSearchCV</label><div class=\"sk-toggleable__content\"><pre>GridSearchCV(cv=5,\n",
       "             estimator=LogisticRegression(max_iter=1000, solver=&#x27;liblinear&#x27;),\n",
       "             param_grid={&#x27;C&#x27;: array([3.90625000e-03, 4.27458477e-03, 4.67765119e-03, 5.11872423e-03,\n",
       "       5.60138769e-03, 6.12956326e-03, 6.70754247e-03, 7.34002148e-03,\n",
       "       8.03213927e-03, 8.78951941e-03, 9.61831573e-03, 1.05252623e-02,\n",
       "       1.15177283e-02, 1.26037775e-02, 1.37922343e-02, 1.50927551e-02,\n",
       "       1.6515...\n",
       "       3.68075060e+00, 4.02782220e+00, 4.40762046e+00, 4.82323131e+00,\n",
       "       5.27803164e+00, 5.77571678e+00, 6.32033049e+00, 6.91629785e+00,\n",
       "       7.56846117e+00, 8.28211939e+00, 9.06307108e+00, 9.91766160e+00,\n",
       "       1.08528346e+01, 1.18761886e+01, 1.29960383e+01, 1.42214829e+01,\n",
       "       1.55624792e+01, 1.70299229e+01, 1.86357374e+01, 2.03929700e+01,\n",
       "       2.23158987e+01, 2.44201473e+01, 2.67228134e+01, 2.92426064e+01,\n",
       "       3.20000000e+01]),\n",
       "                         &#x27;penalty&#x27;: [&#x27;l1&#x27;, &#x27;l2&#x27;]})</pre></div></div></div><div class=\"sk-parallel\"><div class=\"sk-parallel-item\"><div class=\"sk-item\"><div class=\"sk-label-container\"><div class=\"sk-label sk-toggleable\"><input class=\"sk-toggleable__control sk-hidden--visually\" id=\"sk-estimator-id-2\" type=\"checkbox\" ><label for=\"sk-estimator-id-2\" class=\"sk-toggleable__label sk-toggleable__label-arrow\">estimator: LogisticRegression</label><div class=\"sk-toggleable__content\"><pre>LogisticRegression(max_iter=1000, solver=&#x27;liblinear&#x27;)</pre></div></div></div><div class=\"sk-serial\"><div class=\"sk-item\"><div class=\"sk-estimator sk-toggleable\"><input class=\"sk-toggleable__control sk-hidden--visually\" id=\"sk-estimator-id-3\" type=\"checkbox\" ><label for=\"sk-estimator-id-3\" class=\"sk-toggleable__label sk-toggleable__label-arrow\">LogisticRegression</label><div class=\"sk-toggleable__content\"><pre>LogisticRegression(max_iter=1000, solver=&#x27;liblinear&#x27;)</pre></div></div></div></div></div></div></div></div></div></div>"
      ],
      "text/plain": [
       "GridSearchCV(cv=5,\n",
       "             estimator=LogisticRegression(max_iter=1000, solver='liblinear'),\n",
       "             param_grid={'C': array([3.90625000e-03, 4.27458477e-03, 4.67765119e-03, 5.11872423e-03,\n",
       "       5.60138769e-03, 6.12956326e-03, 6.70754247e-03, 7.34002148e-03,\n",
       "       8.03213927e-03, 8.78951941e-03, 9.61831573e-03, 1.05252623e-02,\n",
       "       1.15177283e-02, 1.26037775e-02, 1.37922343e-02, 1.50927551e-02,\n",
       "       1.6515...\n",
       "       3.68075060e+00, 4.02782220e+00, 4.40762046e+00, 4.82323131e+00,\n",
       "       5.27803164e+00, 5.77571678e+00, 6.32033049e+00, 6.91629785e+00,\n",
       "       7.56846117e+00, 8.28211939e+00, 9.06307108e+00, 9.91766160e+00,\n",
       "       1.08528346e+01, 1.18761886e+01, 1.29960383e+01, 1.42214829e+01,\n",
       "       1.55624792e+01, 1.70299229e+01, 1.86357374e+01, 2.03929700e+01,\n",
       "       2.23158987e+01, 2.44201473e+01, 2.67228134e+01, 2.92426064e+01,\n",
       "       3.20000000e+01]),\n",
       "                         'penalty': ['l1', 'l2']})"
      ]
     },
     "execution_count": 5,
     "metadata": {},
     "output_type": "execute_result"
    }
   ],
   "source": [
    "from sklearn.linear_model import LogisticRegression\n",
    "from sklearn.metrics import f1_score\n",
    "from sklearn.model_selection import GridSearchCV\n",
    "\n",
    "accs = []\n",
    "\n",
    "Cs = 2**np.linspace(-8, 5, 101)\n",
    "log_reg_model = LogisticRegression(max_iter=1000, solver='liblinear')\n",
    "cv = GridSearchCV(log_reg_model, param_grid={'penalty': ['l1', 'l2'],'C': Cs}, cv=5)\n",
    "cv.fit(X_train, y_train)"
   ]
  },
  {
   "cell_type": "code",
   "execution_count": 6,
   "metadata": {},
   "outputs": [
    {
     "data": {
      "text/plain": [
       "<matplotlib.legend.Legend at 0x1affe995f00>"
      ]
     },
     "execution_count": 6,
     "metadata": {},
     "output_type": "execute_result"
    },
    {
     "data": {
      "image/png": "[encoded data removed]",
      "text/plain": [
       "<Figure size 640x480 with 1 Axes>"
      ]
     },
     "metadata": {},
     "output_type": "display_data"
    }
   ],
   "source": [
    "plt.plot(Cs, cv.cv_results_['mean_test_score'][::2], label = 'l2 penalty')\n",
    "plt.plot(Cs, cv.cv_results_['mean_test_score'][1::2], label = 'l1 penalty')\n",
    "plt.legend()\n"
   ]
  },
  {
   "cell_type": "code",
   "execution_count": 20,
   "metadata": {},
   "outputs": [
    {
     "name": "stdout",
     "output_type": "stream",
     "text": [
      "Accuracy is 0.7352941176470589\n",
      "Cross entropy score is  0.5568000560289074\n",
      "Cross entropy score is  -0.5568000560289074\n"
     ]
    }
   ],
   "source": [
    "from sklearn.metrics import log_loss\n",
    "\n",
    "log_reg_best = cv.best_estimator_\n",
    "\n",
    "log_reg_best.fit(X_train, y_train)\n",
    "\n",
    "y_pred = log_reg_best.predict(X_test)\n",
    "y_pred_proba = log_reg_best.predict_proba(X_test)\n",
    "\n",
    "print('Accuracy is', np.mean(y_pred == y_test))\n",
    "\n",
    "print('Cross entropy score is ', log_loss(y_test, y_pred_proba))\n",
    "\n"
   ]
  },
  {
   "cell_type": "code",
   "execution_count": 8,
   "metadata": {},
   "outputs": [
    {
     "name": "stdout",
     "output_type": "stream",
     "text": [
      "Coef for  team1_Ranking is -0.01840997809549724 \n",
      "\n",
      "Coef for  team2_Ranking is 0.019130184920570892 \n",
      "\n",
      "Coef for  player0_rating is 0.7501476109652755 \n",
      "\n",
      "Coef for  player0_kd is 0.1607498675207617 \n",
      "\n",
      "Coef for  player1_rating is 0.637297803251139 \n",
      "\n",
      "Coef for  player1_kd is 1.4332043593170907 \n",
      "\n",
      "Coef for  player2_rating is 0.5048755759956423 \n",
      "\n",
      "Coef for  player2_kd is 0.20790629738160363 \n",
      "\n",
      "Coef for  player3_rating is 0.5447465493214724 \n",
      "\n",
      "Coef for  player3_kd is 0.1947449979003317 \n",
      "\n",
      "Coef for  player4_rating is 0.7490837840590683 \n",
      "\n",
      "Coef for  player4_kd is 0.9569999385628416 \n",
      "\n",
      "Coef for  player5_rating is -0.08022816837174385 \n",
      "\n",
      "Coef for  player5_kd is -1.7880271294115833 \n",
      "\n",
      "Coef for  player6_rating is -0.25332678199604935 \n",
      "\n",
      "Coef for  player6_kd is -1.1005897844190489 \n",
      "\n",
      "Coef for  player7_rating is -0.10921770145222681 \n",
      "\n",
      "Coef for  player7_kd is -0.6153916319242444 \n",
      "\n",
      "Coef for  player8_rating is -0.8062044687801634 \n",
      "\n",
      "Coef for  player8_kd is -1.448319506718841 \n",
      "\n",
      "Coef for  player9_rating is -0.02066903797414351 \n",
      "\n",
      "Coef for  player9_kd is 0.3137662278758651 \n",
      "\n"
     ]
    }
   ],
   "source": [
    "for i, coef in enumerate(log_reg_best.coef_[0]):\n",
    "    print('Coef for ', log_reg_best.feature_names_in_[i], 'is', coef, '\\n')\n"
   ]
  },
  {
   "cell_type": "code",
   "execution_count": 9,
   "metadata": {},
   "outputs": [],
   "source": [
    "team_flip_train = df_train.copy()\n",
    "team_flip_train['team1'], team_flip_train['team2'] = df_train['team2'], df_train['team1']\n",
    "team_flip_train['team1_Ranking'], team_flip_train['team2_Ranking'] = df_train['team2_Ranking'], df_train['team1_Ranking']\n",
    "\n",
    "\n",
    "for i in range(10):\n",
    "    team_flip_train[f'player{i}_rating'] = df_train[f'player{9-i}_rating']\n",
    "    team_flip_train[f'player{i}_kd'] = df_train[f'player{9-i}_kd']\n",
    "\n",
    "team_flip_train['team_1_won'] = 1 - df_train['team_1_won']"
   ]
  },
  {
   "cell_type": "code",
   "execution_count": 10,
   "metadata": {},
   "outputs": [],
   "source": [
    "team_flip_test = df_test.copy()\n",
    "team_flip_test['team1'], team_flip_test['team2'] = df_test['team2'], df_test['team1']\n",
    "team_flip_test['team1_Ranking'], team_flip_test['team2_Ranking'] = df_test['team2_Ranking'], df_test['team1_Ranking']\n",
    "\n",
    "for i in range(10):\n",
    "    team_flip_test[f'player{i}_rating'] = df_test[f'player{i}_rating']\n",
    "    team_flip_test[f'player{i}_kd'] = df_test[f'player{i}_kd']\n",
    "\n",
    "team_flip_test['team_1_won'] = 1 - df_test['team_1_won']\n"
   ]
  },
  {
   "cell_type": "code",
   "execution_count": 11,
   "metadata": {},
   "outputs": [],
   "source": [
    "numerical_features = ['team1_Ranking', 'team2_Ranking']\n",
    "for i in range(10):\n",
    "    numerical_features.append(f'player{i}_rating')\n",
    "    numerical_features.append(f'player{i}_kd')\n",
    "\n",
    "\n",
    "X_flip_train = team_flip_train[numerical_features]\n",
    "y_flip_train = team_flip_train['team_1_won']\n",
    "\n",
    "\n"
   ]
  },
  {
   "cell_type": "code",
   "execution_count": 12,
   "metadata": {},
   "outputs": [],
   "source": [
    "n = len(X_train)\n",
    "mask = np.random.randint(0,2,n)\n",
    "X_rnd_flip = pd.concat((X_train[mask==0], X_flip_train[mask==1]))\n",
    "y_rnd_flip = pd.concat((y_train[mask==0], y_flip_train[mask==1]))"
   ]
  },
  {
   "cell_type": "code",
   "execution_count": 13,
   "metadata": {},
   "outputs": [
    {
     "data": {
      "text/html": [
       "<style>#sk-container-id-2 {color: black;}#sk-container-id-2 pre{padding: 0;}#sk-container-id-2 div.sk-toggleable {background-color: white;}#sk-container-id-2 label.sk-toggleable__label {cursor: pointer;display: block;width: 100%;margin-bottom: 0;padding: 0.3em;box-sizing: border-box;text-align: center;}#sk-container-id-2 label.sk-toggleable__label-arrow:before {content: \"▸\";float: left;margin-right: 0.25em;color: #696969;}#sk-container-id-2 label.sk-toggleable__label-arrow:hover:before {color: black;}#sk-container-id-2 div.sk-estimator:hover label.sk-toggleable__label-arrow:before {color: black;}#sk-container-id-2 div.sk-toggleable__content {max-height: 0;max-width: 0;overflow: hidden;text-align: left;background-color: #f0f8ff;}#sk-container-id-2 div.sk-toggleable__content pre {margin: 0.2em;color: black;border-radius: 0.25em;background-color: #f0f8ff;}#sk-container-id-2 input.sk-toggleable__control:checked~div.sk-toggleable__content {max-height: 200px;max-width: 100%;overflow: auto;}#sk-container-id-2 input.sk-toggleable__control:checked~label.sk-toggleable__label-arrow:before {content: \"▾\";}#sk-container-id-2 div.sk-estimator input.sk-toggleable__control:checked~label.sk-toggleable__label {background-color: #d4ebff;}#sk-container-id-2 div.sk-label input.sk-toggleable__control:checked~label.sk-toggleable__label {background-color: #d4ebff;}#sk-container-id-2 input.sk-hidden--visually {border: 0;clip: rect(1px 1px 1px 1px);clip: rect(1px, 1px, 1px, 1px);height: 1px;margin: -1px;overflow: hidden;padding: 0;position: absolute;width: 1px;}#sk-container-id-2 div.sk-estimator {font-family: monospace;background-color: #f0f8ff;border: 1px dotted black;border-radius: 0.25em;box-sizing: border-box;margin-bottom: 0.5em;}#sk-container-id-2 div.sk-estimator:hover {background-color: #d4ebff;}#sk-container-id-2 div.sk-parallel-item::after {content: \"\";width: 100%;border-bottom: 1px solid gray;flex-grow: 1;}#sk-container-id-2 div.sk-label:hover label.sk-toggleable__label {background-color: #d4ebff;}#sk-container-id-2 div.sk-serial::before {content: \"\";position: absolute;border-left: 1px solid gray;box-sizing: border-box;top: 0;bottom: 0;left: 50%;z-index: 0;}#sk-container-id-2 div.sk-serial {display: flex;flex-direction: column;align-items: center;background-color: white;padding-right: 0.2em;padding-left: 0.2em;position: relative;}#sk-container-id-2 div.sk-item {position: relative;z-index: 1;}#sk-container-id-2 div.sk-parallel {display: flex;align-items: stretch;justify-content: center;background-color: white;position: relative;}#sk-container-id-2 div.sk-item::before, #sk-container-id-2 div.sk-parallel-item::before {content: \"\";position: absolute;border-left: 1px solid gray;box-sizing: border-box;top: 0;bottom: 0;left: 50%;z-index: -1;}#sk-container-id-2 div.sk-parallel-item {display: flex;flex-direction: column;z-index: 1;position: relative;background-color: white;}#sk-container-id-2 div.sk-parallel-item:first-child::after {align-self: flex-end;width: 50%;}#sk-container-id-2 div.sk-parallel-item:last-child::after {align-self: flex-start;width: 50%;}#sk-container-id-2 div.sk-parallel-item:only-child::after {width: 0;}#sk-container-id-2 div.sk-dashed-wrapped {border: 1px dashed gray;margin: 0 0.4em 0.5em 0.4em;box-sizing: border-box;padding-bottom: 0.4em;background-color: white;}#sk-container-id-2 div.sk-label label {font-family: monospace;font-weight: bold;display: inline-block;line-height: 1.2em;}#sk-container-id-2 div.sk-label-container {text-align: center;}#sk-container-id-2 div.sk-container {/* jupyter's `normalize.less` sets `[hidden] { display: none; }` but bootstrap.min.css set `[hidden] { display: none !important; }` so we also need the `!important` here to be able to override the default hidden behavior on the sphinx rendered scikit-learn.org. See: https://github.com/scikit-learn/scikit-learn/issues/21755 */display: inline-block !important;position: relative;}#sk-container-id-2 div.sk-text-repr-fallback {display: none;}</style><div id=\"sk-container-id-2\" class=\"sk-top-container\"><div class=\"sk-text-repr-fallback\"><pre>GridSearchCV(cv=5,\n",
       "             estimator=LogisticRegression(max_iter=1000, solver=&#x27;liblinear&#x27;),\n",
       "             param_grid={&#x27;C&#x27;: array([3.05175781e-05, 3.50554918e-05, 4.02681858e-05, 4.62559987e-05,\n",
       "       5.31341897e-05, 6.10351562e-05, 7.01109836e-05, 8.05363715e-05,\n",
       "       9.25119975e-05, 1.06268379e-04, 1.22070312e-04, 1.40221967e-04,\n",
       "       1.61072743e-04, 1.85023995e-04, 2.12536759e-04, 2.44140625e-04,\n",
       "       2.8044...\n",
       "       1.14869835e+00, 1.31950791e+00, 1.51571657e+00, 1.74110113e+00,\n",
       "       2.00000000e+00, 2.29739671e+00, 2.63901582e+00, 3.03143313e+00,\n",
       "       3.48220225e+00, 4.00000000e+00, 4.59479342e+00, 5.27803164e+00,\n",
       "       6.06286627e+00, 6.96440451e+00, 8.00000000e+00, 9.18958684e+00,\n",
       "       1.05560633e+01, 1.21257325e+01, 1.39288090e+01, 1.60000000e+01,\n",
       "       1.83791737e+01, 2.11121266e+01, 2.42514651e+01, 2.78576180e+01,\n",
       "       3.20000000e+01]),\n",
       "                         &#x27;penalty&#x27;: [&#x27;l1&#x27;, &#x27;l2&#x27;]})</pre><b>In a Jupyter environment, please rerun this cell to show the HTML representation or trust the notebook. <br />On GitHub, the HTML representation is unable to render, please try loading this page with nbviewer.org.</b></div><div class=\"sk-container\" hidden><div class=\"sk-item sk-dashed-wrapped\"><div class=\"sk-label-container\"><div class=\"sk-label sk-toggleable\"><input class=\"sk-toggleable__control sk-hidden--visually\" id=\"sk-estimator-id-4\" type=\"checkbox\" ><label for=\"sk-estimator-id-4\" class=\"sk-toggleable__label sk-toggleable__label-arrow\">GridSearchCV</label><div class=\"sk-toggleable__content\"><pre>GridSearchCV(cv=5,\n",
       "             estimator=LogisticRegression(max_iter=1000, solver=&#x27;liblinear&#x27;),\n",
       "             param_grid={&#x27;C&#x27;: array([3.05175781e-05, 3.50554918e-05, 4.02681858e-05, 4.62559987e-05,\n",
       "       5.31341897e-05, 6.10351562e-05, 7.01109836e-05, 8.05363715e-05,\n",
       "       9.25119975e-05, 1.06268379e-04, 1.22070312e-04, 1.40221967e-04,\n",
       "       1.61072743e-04, 1.85023995e-04, 2.12536759e-04, 2.44140625e-04,\n",
       "       2.8044...\n",
       "       1.14869835e+00, 1.31950791e+00, 1.51571657e+00, 1.74110113e+00,\n",
       "       2.00000000e+00, 2.29739671e+00, 2.63901582e+00, 3.03143313e+00,\n",
       "       3.48220225e+00, 4.00000000e+00, 4.59479342e+00, 5.27803164e+00,\n",
       "       6.06286627e+00, 6.96440451e+00, 8.00000000e+00, 9.18958684e+00,\n",
       "       1.05560633e+01, 1.21257325e+01, 1.39288090e+01, 1.60000000e+01,\n",
       "       1.83791737e+01, 2.11121266e+01, 2.42514651e+01, 2.78576180e+01,\n",
       "       3.20000000e+01]),\n",
       "                         &#x27;penalty&#x27;: [&#x27;l1&#x27;, &#x27;l2&#x27;]})</pre></div></div></div><div class=\"sk-parallel\"><div class=\"sk-parallel-item\"><div class=\"sk-item\"><div class=\"sk-label-container\"><div class=\"sk-label sk-toggleable\"><input class=\"sk-toggleable__control sk-hidden--visually\" id=\"sk-estimator-id-5\" type=\"checkbox\" ><label for=\"sk-estimator-id-5\" class=\"sk-toggleable__label sk-toggleable__label-arrow\">estimator: LogisticRegression</label><div class=\"sk-toggleable__content\"><pre>LogisticRegression(max_iter=1000, solver=&#x27;liblinear&#x27;)</pre></div></div></div><div class=\"sk-serial\"><div class=\"sk-item\"><div class=\"sk-estimator sk-toggleable\"><input class=\"sk-toggleable__control sk-hidden--visually\" id=\"sk-estimator-id-6\" type=\"checkbox\" ><label for=\"sk-estimator-id-6\" class=\"sk-toggleable__label sk-toggleable__label-arrow\">LogisticRegression</label><div class=\"sk-toggleable__content\"><pre>LogisticRegression(max_iter=1000, solver=&#x27;liblinear&#x27;)</pre></div></div></div></div></div></div></div></div></div></div>"
      ],
      "text/plain": [
       "GridSearchCV(cv=5,\n",
       "             estimator=LogisticRegression(max_iter=1000, solver='liblinear'),\n",
       "             param_grid={'C': array([3.05175781e-05, 3.50554918e-05, 4.02681858e-05, 4.62559987e-05,\n",
       "       5.31341897e-05, 6.10351562e-05, 7.01109836e-05, 8.05363715e-05,\n",
       "       9.25119975e-05, 1.06268379e-04, 1.22070312e-04, 1.40221967e-04,\n",
       "       1.61072743e-04, 1.85023995e-04, 2.12536759e-04, 2.44140625e-04,\n",
       "       2.8044...\n",
       "       1.14869835e+00, 1.31950791e+00, 1.51571657e+00, 1.74110113e+00,\n",
       "       2.00000000e+00, 2.29739671e+00, 2.63901582e+00, 3.03143313e+00,\n",
       "       3.48220225e+00, 4.00000000e+00, 4.59479342e+00, 5.27803164e+00,\n",
       "       6.06286627e+00, 6.96440451e+00, 8.00000000e+00, 9.18958684e+00,\n",
       "       1.05560633e+01, 1.21257325e+01, 1.39288090e+01, 1.60000000e+01,\n",
       "       1.83791737e+01, 2.11121266e+01, 2.42514651e+01, 2.78576180e+01,\n",
       "       3.20000000e+01]),\n",
       "                         'penalty': ['l1', 'l2']})"
      ]
     },
     "execution_count": 13,
     "metadata": {},
     "output_type": "execute_result"
    }
   ],
   "source": [
    "accs = []\n",
    "\n",
    "Cs = 2**np.linspace(-15, 5, 101)\n",
    "log_reg_model = LogisticRegression(max_iter=1000, solver = 'liblinear')\n",
    "cv = GridSearchCV(log_reg_model, param_grid={'penalty': ['l1', 'l2'], 'C': Cs}, cv=5)\n",
    "cv.fit(X_rnd_flip, y_rnd_flip)"
   ]
  },
  {
   "cell_type": "code",
   "execution_count": 14,
   "metadata": {},
   "outputs": [
    {
     "data": {
      "text/plain": [
       "<matplotlib.legend.Legend at 0x1affeadfa30>"
      ]
     },
     "execution_count": 14,
     "metadata": {},
     "output_type": "execute_result"
    },
    {
     "data": {
      "image/png": "[encoded data removed]",
      "text/plain": [
       "<Figure size 640x480 with 1 Axes>"
      ]
     },
     "metadata": {},
     "output_type": "display_data"
    }
   ],
   "source": [
    "plt.plot(Cs, cv.cv_results_['mean_test_score'][::2], label = 'l2 penalty')\n",
    "plt.plot(Cs, cv.cv_results_['mean_test_score'][1::2], label = 'l1 penalty')\n",
    "plt.legend()\n"
   ]
  },
  {
   "cell_type": "code",
   "execution_count": 15,
   "metadata": {},
   "outputs": [
    {
     "name": "stdout",
     "output_type": "stream",
     "text": [
      "Accuracy is 0.6764705882352942\n",
      "Cross entropy score is  0.5805423218570658\n"
     ]
    }
   ],
   "source": [
    "log_reg_best = cv.best_estimator_\n",
    "\n",
    "log_reg_best.fit(X_rnd_flip, y_rnd_flip)\n",
    "\n",
    "y_pred = log_reg_best.predict(X_test)\n",
    "\n",
    "y_pred_proba = log_reg_best.predict_proba(X_test)\n",
    "\n",
    "print('Accuracy is', np.mean(y_pred == y_test))\n",
    "\n",
    "print('Cross entropy score is ', log_loss(y_test, y_pred_proba))"
   ]
  },
  {
   "cell_type": "code",
   "execution_count": 16,
   "metadata": {},
   "outputs": [
    {
     "name": "stdout",
     "output_type": "stream",
     "text": [
      "Coef for  team1_Ranking is -0.019119582117209464 \n",
      "\n",
      "Coef for  team2_Ranking is 0.019365121605596267 \n",
      "\n",
      "Coef for  player0_rating is 0.5525044740639957 \n",
      "\n",
      "Coef for  player0_kd is -0.5672612155206105 \n",
      "\n",
      "Coef for  player1_rating is 1.5520174250347016 \n",
      "\n",
      "Coef for  player1_kd is 2.274783815976392 \n",
      "\n",
      "Coef for  player2_rating is -0.11659009151891474 \n",
      "\n",
      "Coef for  player2_kd is 0.3079787559953969 \n",
      "\n",
      "Coef for  player3_rating is 0.9700880881318729 \n",
      "\n",
      "Coef for  player3_kd is 1.3594757440611656 \n",
      "\n",
      "Coef for  player4_rating is -1.0312837965003745 \n",
      "\n",
      "Coef for  player4_kd is 1.6338013240874032 \n",
      "\n",
      "Coef for  player5_rating is -0.653711924029632 \n",
      "\n",
      "Coef for  player5_kd is -1.7428176919958434 \n",
      "\n",
      "Coef for  player6_rating is 0.662122444546005 \n",
      "\n",
      "Coef for  player6_kd is 0.06236709139838796 \n",
      "\n",
      "Coef for  player7_rating is -0.5551428559565935 \n",
      "\n",
      "Coef for  player7_kd is -0.3672018459134367 \n",
      "\n",
      "Coef for  player8_rating is -0.9638460581284632 \n",
      "\n",
      "Coef for  player8_kd is -2.0969041649221345 \n",
      "\n",
      "Coef for  player9_rating is -0.7831378359348914 \n",
      "\n",
      "Coef for  player9_kd is -0.4672066291883355 \n",
      "\n"
     ]
    }
   ],
   "source": [
    "for i, coef in enumerate(log_reg_best.coef_[0]):\n",
    "    print('Coef for ', log_reg_best.feature_names_in_[i], 'is', coef, '\\n')\n"
   ]
  }
 ],
 "metadata": {
  "kernelspec": {
   "display_name": ".venv",
   "language": "python",
   "name": "python3"
  },
  "language_info": {
   "codemirror_mode": {
    "name": "ipython",
    "version": 3
   },
   "file_extension": ".py",
   "mimetype": "text/x-python",
   "name": "python",
   "nbconvert_exporter": "python",
   "pygments_lexer": "ipython3",
   "version": "3.10.0"
  }
 },
 "nbformat": 4,
 "nbformat_minor": 2
}

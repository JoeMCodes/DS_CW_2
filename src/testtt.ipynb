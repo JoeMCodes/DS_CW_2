{
 "cells": [
  {
   "cell_type": "code",
   "execution_count": 1,
   "metadata": {},
   "outputs": [],
   "source": [
    "import os\n",
    "os.chdir('../')\n"
   ]
  },
  {
   "cell_type": "code",
   "execution_count": 2,
   "metadata": {},
   "outputs": [],
   "source": [
    "from hltv_api import main as hltv\n",
    "import pandas as pd\n",
    "import requests\n",
    "from bs4 import BeautifulSoup\n",
    "import datetime"
   ]
  },
  {
   "cell_type": "code",
   "execution_count": 3,
   "metadata": {},
   "outputs": [
    {
     "name": "stdout",
     "output_type": "stream",
     "text": [
      "Parsed page successfully after 1 trys\n"
     ]
    }
   ],
   "source": [
    "## gets list of recent (last 6 months) event id's for top tier tournaments (Defined as International LAN's with prize pool greater or equal to 100000$)\n",
    "events_page = hltv.get_parsed_page('https://www.hltv.org/events/archive?startDate=2023-10-24&endDate=2024-04-24&eventType=INTLLAN&eventType=LOCALLAN&prizeMin=100000&prizeMax=2000000')\n",
    "\n",
    "event_ids = []\n",
    "for event in events_page.find_all('a', attrs={'class': 'a-reset small-event standard-box'}):\n",
    "    event_id = event.get('href').split('/')[2]\n",
    "    event_ids.append(event_id)\n",
    "\n"
   ]
  },
  {
   "cell_type": "code",
   "execution_count": 4,
   "metadata": {},
   "outputs": [],
   "source": [
    "event_ids = event_ids[0:2]\n",
    "id - event_ids[0]"
   ]
  },
  {
   "cell_type": "code",
   "execution_count": null,
   "metadata": {},
   "outputs": [],
   "source": [
    "data = hltv.get_results_by_event(id) ## get all matches and outcome data for tournament\n",
    "df = pd.DataFrame(data)\n",
    "\n",
    "## This gets further match data for each match\n",
    "match_ids = df['match-id']\n",
    "match_stats = []\n",
    "past_player_stats = []\n",
    "for match_id in match_ids:\n",
    "    match_stats.append(hltv.get_match_result_stats(match_id))\n",
    "    print(match_id)\n",
    "    past_player_stats.append(hltv.get_past_player_stats_for_match(match_id))\n",
    "\n",
    "\n",
    "df_match_stats = pd.DataFrame(match_stats)\n",
    "df_match_stats = df_match_stats[['match-id', 'match_type', 'match_stage']]\n",
    "df = pd.merge(df, df_match_stats, on='match-id', how = 'inner') ## combine dataframes\n",
    "\n",
    "df_past_player_stats = pd.DataFrame(past_player_stats)\n",
    "df = pd.merge(df, past_player_stats, on='match-id', how = 'inner') ## combine dataframes\n",
    "\n",
    "event_team_rankings = hltv.get_event_team_rankings(event_id) ## gets team rankings at time of the event\n",
    "team_rankings_df = pd.DataFrame(list(event_team_rankings.items()), columns=['Team', 'Ranking'])\n",
    "\n",
    "## Add team rankings to dataframe\n",
    "df = pd.merge(df, team_rankings_df, left_on='team1', right_on='Team', how = 'left')\n",
    "df = df.rename(columns={'Ranking': 'team1_Ranking'}).drop(columns=['Team'])\n",
    "df = pd.merge(df, team_rankings_df, left_on='team2', right_on='Team', how = 'left')\n",
    "df = df.rename(columns={'Ranking': 'team2_Ranking'}).drop(columns=['Team'])\n",
    "\n",
    "df_per_event.append(df)"
   ]
  },
  {
   "cell_type": "code",
   "execution_count": 5,
   "metadata": {},
   "outputs": [
    {
     "name": "stdout",
     "output_type": "stream",
     "text": [
      "Parsed page successfully after 1 trys\n",
      "Parsed page successfully after 12 trys\n",
      "2370784\n",
      "Parsed page successfully after 6 trys\n",
      "Parsed page successfully after 7 trys\n",
      "Parsed page successfully after 1 trys\n",
      "Parsed page successfully after 1 trys\n",
      "2370783\n",
      "Parsed page successfully after 4 trys\n",
      "Parsed page successfully after 8 trys\n",
      "Parsed page successfully after 1 trys\n",
      "Parsed page successfully after 1 trys\n",
      "2370782\n",
      "Parsed page successfully after 2 trys\n",
      "Parsed page successfully after 1 trys\n",
      "Parsed page successfully after 1 trys\n",
      "Parsed page successfully after 2 trys\n",
      "2370781\n",
      "Parsed page successfully after 1 trys\n",
      "Parsed page successfully after 1 trys\n",
      "Parsed page successfully after 1 trys\n",
      "Parsed page successfully after 1 trys\n",
      "2370780\n",
      "Parsed page successfully after 4 trys\n",
      "Parsed page successfully after 1 trys\n",
      "Parsed page successfully after 2 trys\n",
      "Parsed page successfully after 1 trys\n",
      "2370779\n",
      "Parsed page successfully after 5 trys\n",
      "Parsed page successfully after 1 trys\n",
      "Parsed page successfully after 6 trys\n",
      "Parsed page successfully after 6 trys\n",
      "2370777\n",
      "Parsed page successfully after 1 trys\n",
      "Parsed page successfully after 3 trys\n",
      "Parsed page successfully after 1 trys\n",
      "Parsed page successfully after 1 trys\n",
      "2370778\n",
      "Parsed page successfully after 6 trys\n",
      "Parsed page successfully after 10 trys\n",
      "Parsed page successfully after 1 trys\n",
      "Parsed page successfully after 1 trys\n",
      "2370776\n",
      "Parsed page successfully after 1 trys\n",
      "Parsed page successfully after 2 trys\n",
      "Parsed page successfully after 1 trys\n",
      "Parsed page successfully after 6 trys\n",
      "2370775\n",
      "Parsed page successfully after 7 trys\n",
      "Parsed page successfully after 4 trys\n",
      "Parsed page successfully after 5 trys\n",
      "Parsed page successfully after 6 trys\n",
      "2370774\n",
      "Parsed page successfully after 4 trys\n",
      "Parsed page successfully after 1 trys\n",
      "Parsed page successfully after 15 trys\n",
      "Parsed page successfully after 2 trys\n",
      "2370773\n",
      "Parsed page successfully after 1 trys\n",
      "Parsed page successfully after 3 trys\n",
      "Parsed page successfully after 4 trys\n",
      "Parsed page successfully after 6 trys\n",
      "2370772\n",
      "Parsed page successfully after 5 trys\n",
      "Parsed page successfully after 6 trys\n",
      "Parsed page successfully after 4 trys\n",
      "Parsed page successfully after 5 trys\n",
      "2370771\n",
      "Parsed page successfully after 1 trys\n",
      "Parsed page successfully after 3 trys\n",
      "Parsed page successfully after 5 trys\n"
     ]
    },
    {
     "ename": "TypeError",
     "evalue": "Can only merge Series or DataFrame objects, a <class 'list'> was passed",
     "output_type": "error",
     "traceback": [
      "\u001b[1;31m---------------------------------------------------------------------------\u001b[0m",
      "\u001b[1;31mTypeError\u001b[0m                                 Traceback (most recent call last)",
      "Cell \u001b[1;32mIn[5], line 22\u001b[0m\n\u001b[0;32m     19\u001b[0m df \u001b[38;5;241m=\u001b[39m pd\u001b[38;5;241m.\u001b[39mmerge(df, df_match_stats, on\u001b[38;5;241m=\u001b[39m\u001b[38;5;124m'\u001b[39m\u001b[38;5;124mmatch-id\u001b[39m\u001b[38;5;124m'\u001b[39m, how \u001b[38;5;241m=\u001b[39m \u001b[38;5;124m'\u001b[39m\u001b[38;5;124minner\u001b[39m\u001b[38;5;124m'\u001b[39m) \u001b[38;5;66;03m## combine dataframes\u001b[39;00m\n\u001b[0;32m     21\u001b[0m df_past_player_stats \u001b[38;5;241m=\u001b[39m pd\u001b[38;5;241m.\u001b[39mDataFrame(past_player_stats)\n\u001b[1;32m---> 22\u001b[0m df \u001b[38;5;241m=\u001b[39m \u001b[43mpd\u001b[49m\u001b[38;5;241;43m.\u001b[39;49m\u001b[43mmerge\u001b[49m\u001b[43m(\u001b[49m\u001b[43mdf\u001b[49m\u001b[43m,\u001b[49m\u001b[43m \u001b[49m\u001b[43mpast_player_stats\u001b[49m\u001b[43m,\u001b[49m\u001b[43m \u001b[49m\u001b[43mon\u001b[49m\u001b[38;5;241;43m=\u001b[39;49m\u001b[38;5;124;43m'\u001b[39;49m\u001b[38;5;124;43mmatch-id\u001b[39;49m\u001b[38;5;124;43m'\u001b[39;49m\u001b[43m,\u001b[49m\u001b[43m \u001b[49m\u001b[43mhow\u001b[49m\u001b[43m \u001b[49m\u001b[38;5;241;43m=\u001b[39;49m\u001b[43m \u001b[49m\u001b[38;5;124;43m'\u001b[39;49m\u001b[38;5;124;43minner\u001b[39;49m\u001b[38;5;124;43m'\u001b[39;49m\u001b[43m)\u001b[49m \u001b[38;5;66;03m## combine dataframes\u001b[39;00m\n\u001b[0;32m     24\u001b[0m event_team_rankings \u001b[38;5;241m=\u001b[39m hltv\u001b[38;5;241m.\u001b[39mget_event_team_rankings(event_id) \u001b[38;5;66;03m## gets team rankings at time of the event\u001b[39;00m\n\u001b[0;32m     25\u001b[0m team_rankings_df \u001b[38;5;241m=\u001b[39m pd\u001b[38;5;241m.\u001b[39mDataFrame(\u001b[38;5;28mlist\u001b[39m(event_team_rankings\u001b[38;5;241m.\u001b[39mitems()), columns\u001b[38;5;241m=\u001b[39m[\u001b[38;5;124m'\u001b[39m\u001b[38;5;124mTeam\u001b[39m\u001b[38;5;124m'\u001b[39m, \u001b[38;5;124m'\u001b[39m\u001b[38;5;124mRanking\u001b[39m\u001b[38;5;124m'\u001b[39m])\n",
      "File \u001b[1;32mc:\\Users\\Joe\\Desktop\\Term-2\\Data_Science\\DS_CW_2\\.venv\\Lib\\site-packages\\pandas\\core\\reshape\\merge.py:153\u001b[0m, in \u001b[0;36mmerge\u001b[1;34m(left, right, how, on, left_on, right_on, left_index, right_index, sort, suffixes, copy, indicator, validate)\u001b[0m\n\u001b[0;32m    135\u001b[0m \u001b[38;5;129m@Substitution\u001b[39m(\u001b[38;5;124m\"\u001b[39m\u001b[38;5;130;01m\\n\u001b[39;00m\u001b[38;5;124mleft : DataFrame or named Series\u001b[39m\u001b[38;5;124m\"\u001b[39m)\n\u001b[0;32m    136\u001b[0m \u001b[38;5;129m@Appender\u001b[39m(_merge_doc, indents\u001b[38;5;241m=\u001b[39m\u001b[38;5;241m0\u001b[39m)\n\u001b[0;32m    137\u001b[0m \u001b[38;5;28;01mdef\u001b[39;00m \u001b[38;5;21mmerge\u001b[39m(\n\u001b[1;32m   (...)\u001b[0m\n\u001b[0;32m    150\u001b[0m     validate: \u001b[38;5;28mstr\u001b[39m \u001b[38;5;241m|\u001b[39m \u001b[38;5;28;01mNone\u001b[39;00m \u001b[38;5;241m=\u001b[39m \u001b[38;5;28;01mNone\u001b[39;00m,\n\u001b[0;32m    151\u001b[0m ) \u001b[38;5;241m-\u001b[39m\u001b[38;5;241m>\u001b[39m DataFrame:\n\u001b[0;32m    152\u001b[0m     left_df \u001b[38;5;241m=\u001b[39m _validate_operand(left)\n\u001b[1;32m--> 153\u001b[0m     right_df \u001b[38;5;241m=\u001b[39m \u001b[43m_validate_operand\u001b[49m\u001b[43m(\u001b[49m\u001b[43mright\u001b[49m\u001b[43m)\u001b[49m\n\u001b[0;32m    154\u001b[0m     \u001b[38;5;28;01mif\u001b[39;00m how \u001b[38;5;241m==\u001b[39m \u001b[38;5;124m\"\u001b[39m\u001b[38;5;124mcross\u001b[39m\u001b[38;5;124m\"\u001b[39m:\n\u001b[0;32m    155\u001b[0m         \u001b[38;5;28;01mreturn\u001b[39;00m _cross_merge(\n\u001b[0;32m    156\u001b[0m             left_df,\n\u001b[0;32m    157\u001b[0m             right_df,\n\u001b[1;32m   (...)\u001b[0m\n\u001b[0;32m    167\u001b[0m             copy\u001b[38;5;241m=\u001b[39mcopy,\n\u001b[0;32m    168\u001b[0m         )\n",
      "File \u001b[1;32mc:\\Users\\Joe\\Desktop\\Term-2\\Data_Science\\DS_CW_2\\.venv\\Lib\\site-packages\\pandas\\core\\reshape\\merge.py:2692\u001b[0m, in \u001b[0;36m_validate_operand\u001b[1;34m(obj)\u001b[0m\n\u001b[0;32m   2690\u001b[0m     \u001b[38;5;28;01mreturn\u001b[39;00m obj\u001b[38;5;241m.\u001b[39mto_frame()\n\u001b[0;32m   2691\u001b[0m \u001b[38;5;28;01melse\u001b[39;00m:\n\u001b[1;32m-> 2692\u001b[0m     \u001b[38;5;28;01mraise\u001b[39;00m \u001b[38;5;167;01mTypeError\u001b[39;00m(\n\u001b[0;32m   2693\u001b[0m         \u001b[38;5;124mf\u001b[39m\u001b[38;5;124m\"\u001b[39m\u001b[38;5;124mCan only merge Series or DataFrame objects, a \u001b[39m\u001b[38;5;132;01m{\u001b[39;00m\u001b[38;5;28mtype\u001b[39m(obj)\u001b[38;5;132;01m}\u001b[39;00m\u001b[38;5;124m was passed\u001b[39m\u001b[38;5;124m\"\u001b[39m\n\u001b[0;32m   2694\u001b[0m     )\n",
      "\u001b[1;31mTypeError\u001b[0m: Can only merge Series or DataFrame objects, a <class 'list'> was passed"
     ]
    }
   ],
   "source": [
    "# ## Gets information and creates dataframe for each event\n",
    "# df_per_event = []\n",
    "# for id in event_ids:\n",
    "#     data = hltv.get_results_by_event(id) ## get all matches and outcome data for tournament\n",
    "#     df = pd.DataFrame(data)\n",
    "\n",
    "#     ## This gets further match data for each match\n",
    "#     match_ids = df['match-id']\n",
    "#     match_stats = []\n",
    "#     past_player_stats = []\n",
    "#     for match_id in match_ids:\n",
    "#         match_stats.append(hltv.get_match_result_stats(match_id))\n",
    "#         print(match_id)\n",
    "#         past_player_stats.append(hltv.get_past_player_stats_for_match(match_id))\n",
    "\n",
    "\n",
    "#     df_match_stats = pd.DataFrame(match_stats)\n",
    "#     df_match_stats = df_match_stats[['match-id', 'match_type', 'match_stage']]\n",
    "#     df = pd.merge(df, df_match_stats, on='match-id', how = 'inner') ## combine dataframes\n",
    "\n",
    "#     df_past_player_stats = pd.DataFrame(past_player_stats)\n",
    "#     df = pd.merge(df, past_player_stats, on='match-id', how = 'inner') ## combine dataframes\n",
    "    \n",
    "#     event_team_rankings = hltv.get_event_team_rankings(event_id) ## gets team rankings at time of the event\n",
    "#     team_rankings_df = pd.DataFrame(list(event_team_rankings.items()), columns=['Team', 'Ranking'])\n",
    "\n",
    "#     ## Add team rankings to dataframe\n",
    "#     df = pd.merge(df, team_rankings_df, left_on='team1', right_on='Team', how = 'left')\n",
    "#     df = df.rename(columns={'Ranking': 'team1_Ranking'}).drop(columns=['Team'])\n",
    "#     df = pd.merge(df, team_rankings_df, left_on='team2', right_on='Team', how = 'left')\n",
    "#     df = df.rename(columns={'Ranking': 'team2_Ranking'}).drop(columns=['Team'])\n",
    "\n",
    "#     df_per_event.append(df)\n",
    "\n",
    "# df = pd.concat(df_per_event) ## Combines all dataframes together"
   ]
  },
  {
   "cell_type": "code",
   "execution_count": null,
   "metadata": {},
   "outputs": [
    {
     "name": "stdout",
     "output_type": "stream",
     "text": [
      "not run\n"
     ]
    }
   ],
   "source": [
    "test = None\n",
    "\n",
    "if test:\n",
    "    print('run')\n",
    "else: \n",
    "    print('not run')"
   ]
  },
  {
   "cell_type": "code",
   "execution_count": null,
   "metadata": {},
   "outputs": [],
   "source": []
  }
 ],
 "metadata": {
  "kernelspec": {
   "display_name": ".venv",
   "language": "python",
   "name": "python3"
  },
  "language_info": {
   "codemirror_mode": {
    "name": "ipython",
    "version": 3
   },
   "file_extension": ".py",
   "mimetype": "text/x-python",
   "name": "python",
   "nbconvert_exporter": "python",
   "pygments_lexer": "ipython3",
   "version": "3.11.0"
  }
 },
 "nbformat": 4,
 "nbformat_minor": 2
}
